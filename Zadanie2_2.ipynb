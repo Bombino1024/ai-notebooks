{
 "cells": [
  {
   "cell_type": "markdown",
   "metadata": {
    "id": "8uvY61_mVuzj"
   },
   "source": [
    "Wandb installation"
   ]
  },
  {
   "cell_type": "code",
   "execution_count": null,
   "metadata": {
    "colab": {
     "base_uri": "https://localhost:8080/"
    },
    "executionInfo": {
     "elapsed": 11924,
     "status": "ok",
     "timestamp": 1618479587696,
     "user": {
      "displayName": "Martin Bombala",
      "photoUrl": "",
      "userId": "17751321963719189081"
     },
     "user_tz": -120
    },
    "id": "QowXUPPUVrfC",
    "outputId": "7fa03b0a-9c81-4a69-c7e4-7f2ed082052d"
   },
   "outputs": [
    {
     "name": "stdout",
     "output_type": "stream",
     "text": [
      "Collecting wandb\n",
      "\u001b[?25l  Downloading https://files.pythonhosted.org/packages/d5/5d/20ab24504de2669c9a76a50c9bdaeb44a440b0e5e4b92be881ed323857b1/wandb-0.10.26-py2.py3-none-any.whl (2.1MB)\n",
      "\u001b[K     |████████████████████████████████| 2.1MB 3.8MB/s \n",
      "\u001b[?25hCollecting sentry-sdk>=0.4.0\n",
      "\u001b[?25l  Downloading https://files.pythonhosted.org/packages/f3/92/5a33be64990ba815364a8f2dd9e6f51de60d23dfddafb4f1fc5577d4dc64/sentry_sdk-1.0.0-py2.py3-none-any.whl (131kB)\n",
      "\u001b[K     |████████████████████████████████| 133kB 17.7MB/s \n",
      "\u001b[?25hCollecting GitPython>=1.0.0\n",
      "\u001b[?25l  Downloading https://files.pythonhosted.org/packages/a6/99/98019716955ba243657daedd1de8f3a88ca1f5b75057c38e959db22fb87b/GitPython-3.1.14-py3-none-any.whl (159kB)\n",
      "\u001b[K     |████████████████████████████████| 163kB 16.3MB/s \n",
      "\u001b[?25hRequirement already satisfied: six>=1.13.0 in /usr/local/lib/python3.7/dist-packages (from wandb) (1.15.0)\n",
      "Requirement already satisfied: promise<3,>=2.0 in /usr/local/lib/python3.7/dist-packages (from wandb) (2.3)\n",
      "Requirement already satisfied: requests<3,>=2.0.0 in /usr/local/lib/python3.7/dist-packages (from wandb) (2.23.0)\n",
      "Requirement already satisfied: Click>=7.0 in /usr/local/lib/python3.7/dist-packages (from wandb) (7.1.2)\n",
      "Collecting shortuuid>=0.5.0\n",
      "  Downloading https://files.pythonhosted.org/packages/25/a6/2ecc1daa6a304e7f1b216f0896b26156b78e7c38e1211e9b798b4716c53d/shortuuid-1.0.1-py3-none-any.whl\n",
      "Collecting subprocess32>=3.5.3\n",
      "\u001b[?25l  Downloading https://files.pythonhosted.org/packages/32/c8/564be4d12629b912ea431f1a50eb8b3b9d00f1a0b1ceff17f266be190007/subprocess32-3.5.4.tar.gz (97kB)\n",
      "\u001b[K     |████████████████████████████████| 102kB 6.9MB/s \n",
      "\u001b[?25hCollecting docker-pycreds>=0.4.0\n",
      "  Downloading https://files.pythonhosted.org/packages/f5/e8/f6bd1eee09314e7e6dee49cbe2c5e22314ccdb38db16c9fc72d2fa80d054/docker_pycreds-0.4.0-py2.py3-none-any.whl\n",
      "Requirement already satisfied: PyYAML in /usr/local/lib/python3.7/dist-packages (from wandb) (3.13)\n",
      "Collecting configparser>=3.8.1\n",
      "  Downloading https://files.pythonhosted.org/packages/fd/01/ff260a18caaf4457eb028c96eeb405c4a230ca06c8ec9c1379f813caa52e/configparser-5.0.2-py3-none-any.whl\n",
      "Requirement already satisfied: python-dateutil>=2.6.1 in /usr/local/lib/python3.7/dist-packages (from wandb) (2.8.1)\n",
      "Requirement already satisfied: psutil>=5.0.0 in /usr/local/lib/python3.7/dist-packages (from wandb) (5.4.8)\n",
      "Collecting pathtools\n",
      "  Downloading https://files.pythonhosted.org/packages/e7/7f/470d6fcdf23f9f3518f6b0b76be9df16dcc8630ad409947f8be2eb0ed13a/pathtools-0.1.2.tar.gz\n",
      "Requirement already satisfied: protobuf>=3.12.0 in /usr/local/lib/python3.7/dist-packages (from wandb) (3.12.4)\n",
      "Requirement already satisfied: certifi in /usr/local/lib/python3.7/dist-packages (from sentry-sdk>=0.4.0->wandb) (2020.12.5)\n",
      "Requirement already satisfied: urllib3>=1.10.0 in /usr/local/lib/python3.7/dist-packages (from sentry-sdk>=0.4.0->wandb) (1.24.3)\n",
      "Collecting gitdb<5,>=4.0.1\n",
      "\u001b[?25l  Downloading https://files.pythonhosted.org/packages/ea/e8/f414d1a4f0bbc668ed441f74f44c116d9816833a48bf81d22b697090dba8/gitdb-4.0.7-py3-none-any.whl (63kB)\n",
      "\u001b[K     |████████████████████████████████| 71kB 6.7MB/s \n",
      "\u001b[?25hRequirement already satisfied: chardet<4,>=3.0.2 in /usr/local/lib/python3.7/dist-packages (from requests<3,>=2.0.0->wandb) (3.0.4)\n",
      "Requirement already satisfied: idna<3,>=2.5 in /usr/local/lib/python3.7/dist-packages (from requests<3,>=2.0.0->wandb) (2.10)\n",
      "Requirement already satisfied: setuptools in /usr/local/lib/python3.7/dist-packages (from protobuf>=3.12.0->wandb) (54.2.0)\n",
      "Collecting smmap<5,>=3.0.1\n",
      "  Downloading https://files.pythonhosted.org/packages/68/ee/d540eb5e5996eb81c26ceffac6ee49041d473bc5125f2aa995cf51ec1cf1/smmap-4.0.0-py2.py3-none-any.whl\n",
      "Building wheels for collected packages: subprocess32, pathtools\n",
      "  Building wheel for subprocess32 (setup.py) ... \u001b[?25l\u001b[?25hdone\n",
      "  Created wheel for subprocess32: filename=subprocess32-3.5.4-cp37-none-any.whl size=6489 sha256=cf1d2cedcbc566f9d8b1869b795defa6bf9eae75c8dc494dc66934cb41a7cf50\n",
      "  Stored in directory: /root/.cache/pip/wheels/68/39/1a/5e402bdfdf004af1786c8b853fd92f8c4a04f22aad179654d1\n",
      "  Building wheel for pathtools (setup.py) ... \u001b[?25l\u001b[?25hdone\n",
      "  Created wheel for pathtools: filename=pathtools-0.1.2-cp37-none-any.whl size=8786 sha256=348d177ada95a89a2452eb07bbd67ae61412c3d1082ebaa474e8ebe680eb6152\n",
      "  Stored in directory: /root/.cache/pip/wheels/0b/04/79/c3b0c3a0266a3cb4376da31e5bfe8bba0c489246968a68e843\n",
      "Successfully built subprocess32 pathtools\n",
      "Installing collected packages: sentry-sdk, smmap, gitdb, GitPython, shortuuid, subprocess32, docker-pycreds, configparser, pathtools, wandb\n",
      "Successfully installed GitPython-3.1.14 configparser-5.0.2 docker-pycreds-0.4.0 gitdb-4.0.7 pathtools-0.1.2 sentry-sdk-1.0.0 shortuuid-1.0.1 smmap-4.0.0 subprocess32-3.5.4 wandb-0.10.26\n"
     ]
    }
   ],
   "source": [
    "!pip install wandb"
   ]
  },
  {
   "cell_type": "markdown",
   "metadata": {
    "id": "btYOAeSoVz6I"
   },
   "source": [
    "Import packages"
   ]
  },
  {
   "cell_type": "code",
   "execution_count": null,
   "metadata": {
    "id": "sZEuCvarmqQ4"
   },
   "outputs": [],
   "source": [
    "from matplotlib import pyplot\n",
    "import matplotlib.pyplot as plt\n",
    "import matplotlib.image as mpimg\n",
    "import cv2\n",
    "from os import listdir\n",
    "from os.path import isfile, join\n",
    "import numpy as np\n",
    "import pandas as pd \n",
    "from tensorflow.keras.utils import to_categorical\n",
    "from sklearn.model_selection import train_test_split\n",
    "from tensorflow import keras\n",
    "from tensorflow.keras.models import Sequential\n",
    "from tensorflow.keras.layers import Conv2D\n",
    "from tensorflow.keras.layers import MaxPooling2D\n",
    "from tensorflow.keras.layers import Dense\n",
    "from tensorflow.keras.layers import Flatten\n",
    "from tensorflow.keras.layers import Dropout\n",
    "from tensorflow.keras.optimizers import SGD\n",
    "from tensorflow.keras.optimizers import Adagrad\n",
    "from google.colab.patches import cv2_imshow\n",
    "from tensorflow.keras.preprocessing import image\n",
    "from PIL import Image\n",
    "import wandb\n",
    "import math\n",
    "from wandb.keras import WandbCallback"
   ]
  },
  {
   "cell_type": "markdown",
   "metadata": {
    "id": "nbt4uKxpo34l"
   },
   "source": [
    "Nacitanie dat o obrazkoch"
   ]
  },
  {
   "cell_type": "code",
   "execution_count": null,
   "metadata": {
    "colab": {
     "base_uri": "https://localhost:8080/",
     "height": 204
    },
    "executionInfo": {
     "elapsed": 1217,
     "status": "ok",
     "timestamp": 1618479952577,
     "user": {
      "displayName": "Martin Bombala",
      "photoUrl": "",
      "userId": "17751321963719189081"
     },
     "user_tz": -120
    },
    "id": "-edOJ-Oro0tx",
    "outputId": "e2801cc2-0568-47ac-8ad3-35f49efdc1e4"
   },
   "outputs": [
    {
     "data": {
      "text/html": [
       "<div>\n",
       "<style scoped>\n",
       "    .dataframe tbody tr th:only-of-type {\n",
       "        vertical-align: middle;\n",
       "    }\n",
       "\n",
       "    .dataframe tbody tr th {\n",
       "        vertical-align: top;\n",
       "    }\n",
       "\n",
       "    .dataframe thead th {\n",
       "        text-align: right;\n",
       "    }\n",
       "</style>\n",
       "<table border=\"1\" class=\"dataframe\">\n",
       "  <thead>\n",
       "    <tr style=\"text-align: right;\">\n",
       "      <th></th>\n",
       "      <th>image_filename</th>\n",
       "      <th>x0</th>\n",
       "      <th>y0</th>\n",
       "      <th>x1</th>\n",
       "      <th>y1</th>\n",
       "      <th>label</th>\n",
       "      <th>confidence</th>\n",
       "    </tr>\n",
       "  </thead>\n",
       "  <tbody>\n",
       "    <tr>\n",
       "      <th>0</th>\n",
       "      <td>frame_817c47b8-22c4-438a-8dc6-0e3f67f299ee_000...</td>\n",
       "      <td>601.600000</td>\n",
       "      <td>270.355731</td>\n",
       "      <td>726.755556</td>\n",
       "      <td>421.185771</td>\n",
       "      <td>van</td>\n",
       "      <td>1.0</td>\n",
       "    </tr>\n",
       "    <tr>\n",
       "      <th>1</th>\n",
       "      <td>frame_817c47b8-22c4-438a-8dc6-0e3f67f299ee_000...</td>\n",
       "      <td>497.777778</td>\n",
       "      <td>308.774704</td>\n",
       "      <td>534.755556</td>\n",
       "      <td>338.656126</td>\n",
       "      <td>car</td>\n",
       "      <td>1.0</td>\n",
       "    </tr>\n",
       "    <tr>\n",
       "      <th>2</th>\n",
       "      <td>frame_817c47b8-22c4-438a-8dc6-0e3f67f299ee_000...</td>\n",
       "      <td>449.422222</td>\n",
       "      <td>310.197628</td>\n",
       "      <td>509.155556</td>\n",
       "      <td>358.577075</td>\n",
       "      <td>car</td>\n",
       "      <td>1.0</td>\n",
       "    </tr>\n",
       "    <tr>\n",
       "      <th>3</th>\n",
       "      <td>frame_a9110bf2-5252-4ec6-83c6-33b65d0fc04d_000...</td>\n",
       "      <td>711.111111</td>\n",
       "      <td>304.505929</td>\n",
       "      <td>786.488889</td>\n",
       "      <td>368.537549</td>\n",
       "      <td>car</td>\n",
       "      <td>1.0</td>\n",
       "    </tr>\n",
       "    <tr>\n",
       "      <th>4</th>\n",
       "      <td>frame_a9110bf2-5252-4ec6-83c6-33b65d0fc04d_000...</td>\n",
       "      <td>584.533333</td>\n",
       "      <td>307.351779</td>\n",
       "      <td>647.111111</td>\n",
       "      <td>358.577075</td>\n",
       "      <td>car</td>\n",
       "      <td>1.0</td>\n",
       "    </tr>\n",
       "  </tbody>\n",
       "</table>\n",
       "</div>"
      ],
      "text/plain": [
       "                                      image_filename  ...  confidence\n",
       "0  frame_817c47b8-22c4-438a-8dc6-0e3f67f299ee_000...  ...         1.0\n",
       "1  frame_817c47b8-22c4-438a-8dc6-0e3f67f299ee_000...  ...         1.0\n",
       "2  frame_817c47b8-22c4-438a-8dc6-0e3f67f299ee_000...  ...         1.0\n",
       "3  frame_a9110bf2-5252-4ec6-83c6-33b65d0fc04d_000...  ...         1.0\n",
       "4  frame_a9110bf2-5252-4ec6-83c6-33b65d0fc04d_000...  ...         1.0\n",
       "\n",
       "[5 rows x 7 columns]"
      ]
     },
     "execution_count": 2,
     "metadata": {
      "tags": []
     },
     "output_type": "execute_result"
    }
   ],
   "source": [
    "df = pd.read_csv('./drive/MyDrive/Colab Notebooks/archive/nexet/nexet/train_boxes.csv')\n",
    "df.head()"
   ]
  },
  {
   "cell_type": "markdown",
   "metadata": {
    "id": "uFzpFI60micg"
   },
   "source": [
    "Nacitanie obrazkov a odstranenie malych obrazkov"
   ]
  },
  {
   "cell_type": "code",
   "execution_count": null,
   "metadata": {
    "id": "fhc_GR0ipSyH"
   },
   "outputs": [],
   "source": [
    "data = pd.DataFrame(columns=['image_filename', 'x0', 'y0', 'x1', 'y1', 'label', 'confidence'])\n",
    "cropped_images = []\n",
    "i8op\n",
    "for index, row in df.iterrows():\n",
    "  \n",
    "  x = round(row['x0'])\n",
    "  y = round(row['y0'])\n",
    "  width = round(row['x1'] - row['x0'])\n",
    "  height = round(row['y1'] - row['y0'])\n",
    "\n",
    "  if width < 300:\n",
    "        continue\n",
    "\n",
    "  try:\n",
    "    img = cv2.imread('./drive/MyDrive/Colab Notebooks/archive/nexet/nexet/nexet_2017_1/'+row['image_filename'])\n",
    "    crop_img = img[y:y+height, x:x+width]\n",
    "    data = data.append({'image_filename': row['image_filename'], \n",
    "                 'x0': row['x0'], \n",
    "                 'y0': row['y0'], \n",
    "                 'x1': row['x1'], \n",
    "                 'y1': row['y1'], \n",
    "                 'label': row['label'], \n",
    "                 'confidence': row['confidence'], }, ignore_index=True)\n",
    "    cropped_images.append(crop_img)\n",
    "  except: \n",
    "    pass"
   ]
  },
  {
   "cell_type": "markdown",
   "metadata": {
    "id": "Nef1wEgp7gME"
   },
   "source": [
    "Normalizovanie obrazkov"
   ]
  },
  {
   "cell_type": "code",
   "execution_count": null,
   "metadata": {
    "id": "Z8fNUPvH7j51"
   },
   "outputs": [],
   "source": [
    "for i in range(len(cropped_images)):\n",
    "  cropped_images[i] = np.array(cropped_images[i])/ 255.0"
   ]
  },
  {
   "cell_type": "markdown",
   "metadata": {
    "id": "q0GJ7NGjQW4k"
   },
   "source": [
    "Transformovanie output labelov"
   ]
  },
  {
   "cell_type": "code",
   "execution_count": null,
   "metadata": {
    "id": "_wfnFbEfQaFl"
   },
   "outputs": [],
   "source": [
    "from sklearn.preprocessing import LabelBinarizer\n",
    "encoder = LabelBinarizer()\n",
    "transfomed_label = encoder.fit_transform(data['label'])"
   ]
  },
  {
   "cell_type": "markdown",
   "metadata": {
    "id": "fctWHJhc9Tan"
   },
   "source": [
    "Reshapovanie"
   ]
  },
  {
   "cell_type": "code",
   "execution_count": null,
   "metadata": {
    "id": "c0BB0WCM-j-_"
   },
   "outputs": [],
   "source": [
    "for i in range(len(cropped_images)):\n",
    "  cropped_images[i] = np.resize( cropped_images[i], (200,200, 3))"
   ]
  },
  {
   "cell_type": "markdown",
   "metadata": {
    "id": "zkNyVIJJ8KDg"
   },
   "source": [
    "Rozdelenie datasetu"
   ]
  },
  {
   "cell_type": "code",
   "execution_count": null,
   "metadata": {
    "id": "DzBrinxH8Lw1"
   },
   "outputs": [],
   "source": [
    "X_train, X_test, y_train, y_test = train_test_split( np.array(cropped_images), np.array(transfomed_label), random_state=42)\n",
    "X_test, X_valid, y_test, y_valid = train_test_split(X_test, y_test, random_state=42)"
   ]
  },
  {
   "cell_type": "markdown",
   "metadata": {
    "id": "7f0aJ-Yq72nu"
   },
   "source": [
    "Definovanie modelu"
   ]
  },
  {
   "cell_type": "code",
   "execution_count": null,
   "metadata": {
    "id": "y9Cq-2nH73y3"
   },
   "outputs": [],
   "source": [
    "def define_model():\n",
    "    model = Sequential()\n",
    "    model.add(Conv2D(64, (3, 3), activation='relu', kernel_initializer='he_uniform', padding='same', input_shape=(200, 200, 3)))\n",
    "    model.add(Conv2D(64, (3, 3), activation='relu', kernel_initializer='he_uniform', padding='same'))\n",
    "    model.add(MaxPooling2D((2, 2)))\n",
    "    model.add(Dropout(0.2))\n",
    "    model.add(Conv2D(32, (3, 3), activation='relu', kernel_initializer='he_uniform', padding='same'))\n",
    "    model.add(Conv2D(32, (3, 3), activation='relu', kernel_initializer='he_uniform', padding='same'))\n",
    "    model.add(MaxPooling2D((2, 2)))\n",
    "    model.add(Dropout(0.2))\n",
    "    model.add(Conv2D(256, (3, 3), activation='relu', kernel_initializer='he_uniform', padding='same'))\n",
    "    model.add(Conv2D(256, (3, 3), activation='relu', kernel_initializer='he_uniform', padding='same'))\n",
    "    model.add(MaxPooling2D((2, 2)))\n",
    "    model.add(Dropout(0.2))\n",
    "    model.add(Flatten())\n",
    "    model.add(Dense(256, activation='relu', kernel_initializer='he_uniform'))\n",
    "    model.add(Dropout(0.2))\n",
    "    model.add(Dense(5, activation='softmax'))\n",
    "    # compile model\n",
    "    opt = Adagrad(lr=0.08325)\n",
    "    model.compile(optimizer=opt, loss='binary_crossentropy', metrics=['accuracy'])\n",
    "    return model"
   ]
  },
  {
   "cell_type": "markdown",
   "metadata": {
    "id": "xL9J50s77_oJ"
   },
   "source": [
    "Trenovanie modelu"
   ]
  },
  {
   "cell_type": "code",
   "execution_count": null,
   "metadata": {
    "id": "qUP7YESr8A7l"
   },
   "outputs": [],
   "source": [
    "# define model\n",
    "model = define_model()\n",
    "# fit model\n",
    "history = model.fit(X_train, y_train, epochs=80, batch_size=32, validation_data=(X_test, y_test), verbose=1)\n",
    "test_loss, test_acc = model.evaluate(X_test, y_test)\n",
    "print('Test accuracy:', test_acc)"
   ]
  },
  {
   "cell_type": "markdown",
   "metadata": {
    "id": "ypBCCI4ZX7m3"
   },
   "source": [
    "Wandb login"
   ]
  },
  {
   "cell_type": "code",
   "execution_count": null,
   "metadata": {
    "colab": {
     "base_uri": "https://localhost:8080/",
     "height": 68
    },
    "executionInfo": {
     "elapsed": 4927,
     "status": "ok",
     "timestamp": 1618480542841,
     "user": {
      "displayName": "Martin Bombala",
      "photoUrl": "",
      "userId": "17751321963719189081"
     },
     "user_tz": -120
    },
    "id": "FDZwpg6LU5V1",
    "outputId": "7668878d-49ec-4322-bd5b-997c2356eee0"
   },
   "outputs": [
    {
     "data": {
      "application/javascript": [
       "\n",
       "        window._wandbApiKey = new Promise((resolve, reject) => {\n",
       "            function loadScript(url) {\n",
       "            return new Promise(function(resolve, reject) {\n",
       "                let newScript = document.createElement(\"script\");\n",
       "                newScript.onerror = reject;\n",
       "                newScript.onload = resolve;\n",
       "                document.body.appendChild(newScript);\n",
       "                newScript.src = url;\n",
       "            });\n",
       "            }\n",
       "            loadScript(\"https://cdn.jsdelivr.net/npm/postmate/build/postmate.min.js\").then(() => {\n",
       "            const iframe = document.createElement('iframe')\n",
       "            iframe.style.cssText = \"width:0;height:0;border:none\"\n",
       "            document.body.appendChild(iframe)\n",
       "            const handshake = new Postmate({\n",
       "                container: iframe,\n",
       "                url: 'https://wandb.ai/authorize'\n",
       "            });\n",
       "            const timeout = setTimeout(() => reject(\"Couldn't auto authenticate\"), 5000)\n",
       "            handshake.then(function(child) {\n",
       "                child.on('authorize', data => {\n",
       "                    clearTimeout(timeout)\n",
       "                    resolve(data)\n",
       "                });\n",
       "            });\n",
       "            })\n",
       "        });\n",
       "    "
      ],
      "text/plain": [
       "<IPython.core.display.Javascript object>"
      ]
     },
     "metadata": {
      "tags": []
     },
     "output_type": "display_data"
    },
    {
     "name": "stderr",
     "output_type": "stream",
     "text": [
      "\u001b[34m\u001b[1mwandb\u001b[0m: Appending key for api.wandb.ai to your netrc file: /root/.netrc\n"
     ]
    },
    {
     "data": {
      "text/plain": [
       "True"
      ]
     },
     "execution_count": 13,
     "metadata": {
      "tags": []
     },
     "output_type": "execute_result"
    }
   ],
   "source": [
    "wandb.login()"
   ]
  },
  {
   "cell_type": "markdown",
   "metadata": {
    "id": "R4xxWRVLYDl9"
   },
   "source": [
    "Wand sweep config"
   ]
  },
  {
   "cell_type": "code",
   "execution_count": null,
   "metadata": {
    "id": "tCy19ncWYG1C"
   },
   "outputs": [],
   "source": [
    "# define sweep\n",
    "sweep_config = {\n",
    "  \"name\": \"NN-sweep-keras\",\n",
    "  \"method\": \"random\",\n",
    "  \"metric\" : {\n",
    "    'name': 'loss',\n",
    "    'goal': 'minimize'   \n",
    "    },\n",
    " \"parameters\" : {\n",
    "    'optimizer': {\n",
    "        'values': ['Adam', 'Adagrad', 'RMSprop', 'SGD']\n",
    "        },\n",
    "\n",
    "    'criterion': {\n",
    "        'values': ['binary_crossentropy', 'categorical_crossentropy', 'mean_squared_error']\n",
    "        },\n",
    "\n",
    "    'h1': {\n",
    "        'values': [8, 16, 32, 64,128,256]\n",
    "        },\n",
    "\n",
    "    'h2': {\n",
    "        'values': [8, 16, 32, 64,128,256]\n",
    "        },\n",
    "\n",
    "    'h3': {\n",
    "        'values': [8, 16, 32, 64,128,256]\n",
    "        },\n",
    "\n",
    "    'h4': {\n",
    "        'values': [8, 16, 32, 64,128,256]\n",
    "        },\n",
    "\n",
    "    'learning_rate': {\n",
    "        'distribution': 'uniform',\n",
    "        'min': 0,\n",
    "        'max': 0.1\n",
    "        },\n",
    "\n",
    "    'batch_size': {\n",
    "        'distribution': 'q_log_uniform',\n",
    "        'q': 1,\n",
    "        'min': math.log(32),\n",
    "        'max': math.log(256),\n",
    "      },\n",
    "\n",
    "    'epochs': {\n",
    "        'distribution': 'int_uniform',\n",
    "        'min':80,\n",
    "        'max': 100,\n",
    "        }\n",
    "    }   \n",
    "\n",
    "}"
   ]
  },
  {
   "cell_type": "markdown",
   "metadata": {
    "id": "xsqeIFLBb8QT"
   },
   "source": [
    "Init sweep"
   ]
  },
  {
   "cell_type": "code",
   "execution_count": null,
   "metadata": {
    "colab": {
     "base_uri": "https://localhost:8080/"
    },
    "executionInfo": {
     "elapsed": 690,
     "status": "ok",
     "timestamp": 1618480807174,
     "user": {
      "displayName": "Martin Bombala",
      "photoUrl": "",
      "userId": "17751321963719189081"
     },
     "user_tz": -120
    },
    "id": "etJZACl5b50Q",
    "outputId": "26297ac7-c588-4e31-f859-68321e8b0551"
   },
   "outputs": [
    {
     "name": "stdout",
     "output_type": "stream",
     "text": [
      "Create sweep with ID: 9djxz19i\n",
      "Sweep URL: https://wandb.ai/bombinko/uncategorized/sweeps/9djxz19i\n"
     ]
    }
   ],
   "source": [
    "sweep_id = wandb.sweep(sweep_config) "
   ]
  },
  {
   "cell_type": "markdown",
   "metadata": {
    "id": "TGIWMdIUX9RG"
   },
   "source": [
    "Wandb train def"
   ]
  },
  {
   "cell_type": "code",
   "execution_count": null,
   "metadata": {
    "id": "O8VL2flUX-q-"
   },
   "outputs": [],
   "source": [
    "def train():\n",
    "    with wandb.init(config=sweep_config):\n",
    "    # Specify the other hyperparameters to the configuration\n",
    "        config = wandb.config\n",
    "        # Add the config item (layers) to wandb\n",
    "        if wandb.run:\n",
    "            # Define the model\n",
    "            model = Sequential()\n",
    "            model.add(Conv2D(config.h1, (3, 3), activation='relu', kernel_initializer='he_uniform', padding='same', input_shape=(200, 200, 3)))\n",
    "            model.add(Conv2D(config.h1, (3, 3), activation='relu', kernel_initializer='he_uniform', padding='same'))\n",
    "            model.add(MaxPooling2D((2, 2)))\n",
    "            model.add(Dropout(0.2))\n",
    "            model.add(Conv2D(config.h2, (3, 3), activation='relu', kernel_initializer='he_uniform', padding='same'))\n",
    "            model.add(Conv2D(config.h2, (3, 3), activation='relu', kernel_initializer='he_uniform', padding='same'))\n",
    "            model.add(MaxPooling2D((2, 2)))\n",
    "            model.add(Dropout(0.2))\n",
    "            model.add(Conv2D(config.h3, (3, 3), activation='relu', kernel_initializer='he_uniform', padding='same'))\n",
    "            model.add(Conv2D(config.h3, (3, 3), activation='relu', kernel_initializer='he_uniform', padding='same'))\n",
    "            model.add(MaxPooling2D((2, 2)))\n",
    "            model.add(Dropout(0.2))\n",
    "            model.add(Flatten())\n",
    "            model.add(Dense(config.h4, activation='relu', kernel_initializer='he_uniform'))\n",
    "            model.add(Dropout(0.2))\n",
    "            model.add(Dense(5, activation='softmax'))\n",
    "            model.compile(loss=config.criterion, optimizer=config.optimizer,metrics=['accuracy'])\n",
    "            model.fit(X_train, y_train, epochs=config.epochs,validation_data=(X_test, y_test),callbacks=[WandbCallback()],verbose=0)"
   ]
  },
  {
   "cell_type": "markdown",
   "metadata": {
    "id": "ZOoQfRdUb-p-"
   },
   "source": [
    "Run sweep"
   ]
  },
  {
   "cell_type": "code",
   "execution_count": null,
   "metadata": {
    "colab": {
     "base_uri": "https://localhost:8080/",
     "height": 1000,
     "referenced_widgets": [
      "585f41cbd9c9442c980f49d6856efb0b",
      "ee80dd065cfd4f8fb69d2f56d8494ec5",
      "3f37764120d54dd68f9aa64ed23aae1b",
      "8b273f06ff6a4978ab406f63fc8bfb7a",
      "5e4446d0ad414e36b241d7f019ecdf41",
      "ad6bacf1dbfc45da96d3d4d0705ac464",
      "df5fbadce43f453d82b855606875572d",
      "b582ed1ebc4841af93a8f10c71a7a03d",
      "1343c8a4a456463894e88d595214215a",
      "6cd8eddd85a04fbba72b704ec9bccfb8",
      "9e439969309b435cb142c0a338206afd",
      "6f4d6cf761be4049bd749f136333a32b",
      "bfba1760f6f145fcb684d79547d204e7",
      "760b9b56183940c68ac06c1aa5e69de7",
      "2d205754f4b347fbbcb20cf11f905c49",
      "349ae9bd183543b88d67c06863dc51c9"
     ]
    },
    "executionInfo": {
     "elapsed": 18882710,
     "status": "ok",
     "timestamp": 1618499693504,
     "user": {
      "displayName": "Martin Bombala",
      "photoUrl": "",
      "userId": "17751321963719189081"
     },
     "user_tz": -120
    },
    "id": "aHd7wIp5b_0v",
    "outputId": "7d2a24b4-0585-442b-9b12-7b924362dc5b"
   },
   "outputs": [
    {
     "name": "stderr",
     "output_type": "stream",
     "text": [
      "\u001b[34m\u001b[1mwandb\u001b[0m: Agent Starting Run: nkmmyl4o with config:\n",
      "\u001b[34m\u001b[1mwandb\u001b[0m: \tbatch_size: 34\n",
      "\u001b[34m\u001b[1mwandb\u001b[0m: \tcriterion: mean_squared_error\n",
      "\u001b[34m\u001b[1mwandb\u001b[0m: \tepochs: 89\n",
      "\u001b[34m\u001b[1mwandb\u001b[0m: \th1: 8\n",
      "\u001b[34m\u001b[1mwandb\u001b[0m: \th2: 128\n",
      "\u001b[34m\u001b[1mwandb\u001b[0m: \th3: 64\n",
      "\u001b[34m\u001b[1mwandb\u001b[0m: \th4: 16\n",
      "\u001b[34m\u001b[1mwandb\u001b[0m: \tlearning_rate: 0.08662062667896303\n",
      "\u001b[34m\u001b[1mwandb\u001b[0m: \toptimizer: RMSprop\n"
     ]
    },
    {
     "data": {
      "text/html": [
       "\n",
       "                Tracking run with wandb version 0.10.26<br/>\n",
       "                Syncing run <strong style=\"color:#cdcd00\">fanciful-sweep-1</strong> to <a href=\"https://wandb.ai\" target=\"_blank\">Weights & Biases</a> <a href=\"https://docs.wandb.com/integrations/jupyter.html\" target=\"_blank\">(Documentation)</a>.<br/>\n",
       "                Project page: <a href=\"https://wandb.ai/bombinko/uncategorized\" target=\"_blank\">https://wandb.ai/bombinko/uncategorized</a><br/>\n",
       "                Sweep page: <a href=\"https://wandb.ai/bombinko/uncategorized/sweeps/9djxz19i\" target=\"_blank\">https://wandb.ai/bombinko/uncategorized/sweeps/9djxz19i</a><br/>\n",
       "Run page: <a href=\"https://wandb.ai/bombinko/uncategorized/runs/nkmmyl4o\" target=\"_blank\">https://wandb.ai/bombinko/uncategorized/runs/nkmmyl4o</a><br/>\n",
       "                Run data is saved locally in <code>/content/wandb/run-20210415_100014-nkmmyl4o</code><br/><br/>\n",
       "            "
      ],
      "text/plain": [
       "<IPython.core.display.HTML object>"
      ]
     },
     "metadata": {
      "tags": []
     },
     "output_type": "display_data"
    },
    {
     "data": {
      "text/html": [
       "<br/>Waiting for W&B process to finish, PID 563<br/>Program ended successfully."
      ],
      "text/plain": [
       "<IPython.core.display.HTML object>"
      ]
     },
     "metadata": {
      "tags": []
     },
     "output_type": "display_data"
    },
    {
     "data": {
      "application/vnd.jupyter.widget-view+json": {
       "model_id": "585f41cbd9c9442c980f49d6856efb0b",
       "version_major": 2,
       "version_minor": 0
      },
      "text/plain": [
       "VBox(children=(Label(value=' 7.00MB of 7.00MB uploaded (0.00MB deduped)\\r'), FloatProgress(value=1.0, max=1.0)…"
      ]
     },
     "metadata": {
      "tags": []
     },
     "output_type": "display_data"
    },
    {
     "data": {
      "text/html": [
       "Find user logs for this run at: <code>/content/wandb/run-20210415_100014-nkmmyl4o/logs/debug.log</code>"
      ],
      "text/plain": [
       "<IPython.core.display.HTML object>"
      ]
     },
     "metadata": {
      "tags": []
     },
     "output_type": "display_data"
    },
    {
     "data": {
      "text/html": [
       "Find internal logs for this run at: <code>/content/wandb/run-20210415_100014-nkmmyl4o/logs/debug-internal.log</code>"
      ],
      "text/plain": [
       "<IPython.core.display.HTML object>"
      ]
     },
     "metadata": {
      "tags": []
     },
     "output_type": "display_data"
    },
    {
     "data": {
      "text/html": [
       "<h3>Run summary:</h3><br/><style>\n",
       "    table.wandb td:nth-child(1) { padding: 0 10px; text-align: right }\n",
       "    </style><table class=\"wandb\">\n",
       "<tr><td>epoch</td><td>88</td></tr><tr><td>loss</td><td>0.01283</td></tr><tr><td>accuracy</td><td>0.96</td></tr><tr><td>val_loss</td><td>0.2606</td></tr><tr><td>val_accuracy</td><td>0.22222</td></tr><tr><td>_runtime</td><td>2123</td></tr><tr><td>_timestamp</td><td>1618482937</td></tr><tr><td>_step</td><td>88</td></tr><tr><td>best_val_loss</td><td>0.11997</td></tr><tr><td>best_epoch</td><td>16</td></tr></table>"
      ],
      "text/plain": [
       "<IPython.core.display.HTML object>"
      ]
     },
     "metadata": {
      "tags": []
     },
     "output_type": "display_data"
    },
    {
     "data": {
      "text/html": [
       "<h3>Run history:</h3><br/><style>\n",
       "    table.wandb td:nth-child(1) { padding: 0 10px; text-align: right }\n",
       "    </style><table class=\"wandb\">\n",
       "<tr><td>epoch</td><td>▁▁▁▁▂▂▂▂▂▃▃▃▃▃▃▄▄▄▄▄▅▅▅▅▅▅▆▆▆▆▆▆▇▇▇▇▇███</td></tr><tr><td>loss</td><td>▅█▄▄▄▄▃▃▃▃▃▃▃▂▂▂▂▁▂▂▂▁▁▁▁▁▂▁▁▁▁▁▁▁▁▁▁▁▁▁</td></tr><tr><td>accuracy</td><td>▃▁▃▃▃▃▄▄▅▄▅▆▆▆▇▇▇█▇▇▇███▇▇▇▇▇▇▇▇████████</td></tr><tr><td>val_loss</td><td>█▃▂▁▁▁▁▁▁▁▂▁▁▁▂▂▁▄▃▂▂▂▂▄▂▂▆▄▃▄▃▃▃▃▃▃▃▃▄▅</td></tr><tr><td>val_accuracy</td><td>▁▁▅▇█▇▇▆▇▆▅▆▇▇▅▆▇▅▆▆▆▆▆▅▅▅▃▄▅▄▅▅▅▆▅▅▆▅▅▃</td></tr><tr><td>_runtime</td><td>▁▁▁▁▂▂▂▂▂▃▃▃▃▃▃▄▄▄▄▄▅▅▅▅▅▅▆▆▆▆▆▆▇▇▇▇▇███</td></tr><tr><td>_timestamp</td><td>▁▁▁▁▂▂▂▂▂▃▃▃▃▃▃▄▄▄▄▄▅▅▅▅▅▅▆▆▆▆▆▆▇▇▇▇▇███</td></tr><tr><td>_step</td><td>▁▁▁▁▂▂▂▂▂▃▃▃▃▃▃▄▄▄▄▄▅▅▅▅▅▅▆▆▆▆▆▆▇▇▇▇▇███</td></tr></table><br/>"
      ],
      "text/plain": [
       "<IPython.core.display.HTML object>"
      ]
     },
     "metadata": {
      "tags": []
     },
     "output_type": "display_data"
    },
    {
     "data": {
      "text/html": [
       "Synced 4 W&B file(s), 0 media file(s), 0 artifact file(s) and 1 other file(s)"
      ],
      "text/plain": [
       "<IPython.core.display.HTML object>"
      ]
     },
     "metadata": {
      "tags": []
     },
     "output_type": "display_data"
    },
    {
     "data": {
      "text/html": [
       "\n",
       "                    <br/>Synced <strong style=\"color:#cdcd00\">fanciful-sweep-1</strong>: <a href=\"https://wandb.ai/bombinko/uncategorized/runs/nkmmyl4o\" target=\"_blank\">https://wandb.ai/bombinko/uncategorized/runs/nkmmyl4o</a><br/>\n",
       "                "
      ],
      "text/plain": [
       "<IPython.core.display.HTML object>"
      ]
     },
     "metadata": {
      "tags": []
     },
     "output_type": "display_data"
    },
    {
     "name": "stderr",
     "output_type": "stream",
     "text": [
      "\u001b[34m\u001b[1mwandb\u001b[0m: Agent Starting Run: holzw940 with config:\n",
      "\u001b[34m\u001b[1mwandb\u001b[0m: \tbatch_size: 73\n",
      "\u001b[34m\u001b[1mwandb\u001b[0m: \tcriterion: categorical_crossentropy\n",
      "\u001b[34m\u001b[1mwandb\u001b[0m: \tepochs: 95\n",
      "\u001b[34m\u001b[1mwandb\u001b[0m: \th1: 64\n",
      "\u001b[34m\u001b[1mwandb\u001b[0m: \th2: 8\n",
      "\u001b[34m\u001b[1mwandb\u001b[0m: \th3: 64\n",
      "\u001b[34m\u001b[1mwandb\u001b[0m: \th4: 8\n",
      "\u001b[34m\u001b[1mwandb\u001b[0m: \tlearning_rate: 0.09662537025648998\n",
      "\u001b[34m\u001b[1mwandb\u001b[0m: \toptimizer: Adagrad\n"
     ]
    },
    {
     "data": {
      "text/html": [
       "\n",
       "                Tracking run with wandb version 0.10.26<br/>\n",
       "                Syncing run <strong style=\"color:#cdcd00\">dry-sweep-2</strong> to <a href=\"https://wandb.ai\" target=\"_blank\">Weights & Biases</a> <a href=\"https://docs.wandb.com/integrations/jupyter.html\" target=\"_blank\">(Documentation)</a>.<br/>\n",
       "                Project page: <a href=\"https://wandb.ai/bombinko/uncategorized\" target=\"_blank\">https://wandb.ai/bombinko/uncategorized</a><br/>\n",
       "                Sweep page: <a href=\"https://wandb.ai/bombinko/uncategorized/sweeps/9djxz19i\" target=\"_blank\">https://wandb.ai/bombinko/uncategorized/sweeps/9djxz19i</a><br/>\n",
       "Run page: <a href=\"https://wandb.ai/bombinko/uncategorized/runs/holzw940\" target=\"_blank\">https://wandb.ai/bombinko/uncategorized/runs/holzw940</a><br/>\n",
       "                Run data is saved locally in <code>/content/wandb/run-20210415_103543-holzw940</code><br/><br/>\n",
       "            "
      ],
      "text/plain": [
       "<IPython.core.display.HTML object>"
      ]
     },
     "metadata": {
      "tags": []
     },
     "output_type": "display_data"
    },
    {
     "data": {
      "text/html": [
       "<br/>Waiting for W&B process to finish, PID 1302<br/>Program ended successfully."
      ],
      "text/plain": [
       "<IPython.core.display.HTML object>"
      ]
     },
     "metadata": {
      "tags": []
     },
     "output_type": "display_data"
    },
    {
     "data": {
      "application/vnd.jupyter.widget-view+json": {
       "model_id": "1343c8a4a456463894e88d595214215a",
       "version_major": 2,
       "version_minor": 0
      },
      "text/plain": [
       "VBox(children=(Label(value=' 3.17MB of 3.17MB uploaded (0.00MB deduped)\\r'), FloatProgress(value=1.0, max=1.0)…"
      ]
     },
     "metadata": {
      "tags": []
     },
     "output_type": "display_data"
    },
    {
     "data": {
      "text/html": [
       "Find user logs for this run at: <code>/content/wandb/run-20210415_103543-holzw940/logs/debug.log</code>"
      ],
      "text/plain": [
       "<IPython.core.display.HTML object>"
      ]
     },
     "metadata": {
      "tags": []
     },
     "output_type": "display_data"
    },
    {
     "data": {
      "text/html": [
       "Find internal logs for this run at: <code>/content/wandb/run-20210415_103543-holzw940/logs/debug-internal.log</code>"
      ],
      "text/plain": [
       "<IPython.core.display.HTML object>"
      ]
     },
     "metadata": {
      "tags": []
     },
     "output_type": "display_data"
    },
    {
     "data": {
      "text/html": [
       "<h3>Run summary:</h3><br/><style>\n",
       "    table.wandb td:nth-child(1) { padding: 0 10px; text-align: right }\n",
       "    </style><table class=\"wandb\">\n",
       "<tr><td>epoch</td><td>94</td></tr><tr><td>loss</td><td>1.32062</td></tr><tr><td>accuracy</td><td>0.4</td></tr><tr><td>val_loss</td><td>1.41931</td></tr><tr><td>val_accuracy</td><td>0.5</td></tr><tr><td>_runtime</td><td>2528</td></tr><tr><td>_timestamp</td><td>1618485471</td></tr><tr><td>_step</td><td>94</td></tr><tr><td>best_val_loss</td><td>1.40095</td></tr><tr><td>best_epoch</td><td>88</td></tr></table>"
      ],
      "text/plain": [
       "<IPython.core.display.HTML object>"
      ]
     },
     "metadata": {
      "tags": []
     },
     "output_type": "display_data"
    },
    {
     "data": {
      "text/html": [
       "<h3>Run history:</h3><br/><style>\n",
       "    table.wandb td:nth-child(1) { padding: 0 10px; text-align: right }\n",
       "    </style><table class=\"wandb\">\n",
       "<tr><td>epoch</td><td>▁▁▁▂▂▂▂▂▂▃▃▃▃▃▃▄▄▄▄▄▅▅▅▅▅▅▆▆▆▆▆▇▇▇▇▇▇███</td></tr><tr><td>loss</td><td>█▆▄▄▃▃▄▃▃▃▃▃▃▃▂▃▃▂▄▂▃▂▂▃▃▂▃▃▂▂▃▂▂▂▂▂▂▁▁▁</td></tr><tr><td>accuracy</td><td>▄▅▄▂▃▂▂▃▂▃▃▃▂▁▂▅▁▁▂▂▃▃▃▂▂▂▂▂▂▃▅▅████████</td></tr><tr><td>val_loss</td><td>██▅▄▄▄▄▃▃▄▃▃▃▃▃▄▃▂▃▂▄▃▂▃▂▂▁▂▂▃▂▂▂▂▁▂▁▁▁▁</td></tr><tr><td>val_accuracy</td><td>▇▁▁▁▁▁▁▁▁▁▁▁▁▁▁▂▂▂▂▂▆▅▅▅▆▅▆▇████████████</td></tr><tr><td>_runtime</td><td>▁▁▁▂▂▂▂▂▂▃▃▃▃▃▃▄▄▄▄▄▅▅▅▅▅▅▆▆▆▆▆▇▇▇▇▇▇███</td></tr><tr><td>_timestamp</td><td>▁▁▁▂▂▂▂▂▂▃▃▃▃▃▃▄▄▄▄▄▅▅▅▅▅▅▆▆▆▆▆▇▇▇▇▇▇███</td></tr><tr><td>_step</td><td>▁▁▁▂▂▂▂▂▂▃▃▃▃▃▃▄▄▄▄▄▅▅▅▅▅▅▆▆▆▆▆▇▇▇▇▇▇███</td></tr></table><br/>"
      ],
      "text/plain": [
       "<IPython.core.display.HTML object>"
      ]
     },
     "metadata": {
      "tags": []
     },
     "output_type": "display_data"
    },
    {
     "data": {
      "text/html": [
       "Synced 4 W&B file(s), 0 media file(s), 0 artifact file(s) and 1 other file(s)"
      ],
      "text/plain": [
       "<IPython.core.display.HTML object>"
      ]
     },
     "metadata": {
      "tags": []
     },
     "output_type": "display_data"
    },
    {
     "data": {
      "text/html": [
       "\n",
       "                    <br/>Synced <strong style=\"color:#cdcd00\">dry-sweep-2</strong>: <a href=\"https://wandb.ai/bombinko/uncategorized/runs/holzw940\" target=\"_blank\">https://wandb.ai/bombinko/uncategorized/runs/holzw940</a><br/>\n",
       "                "
      ],
      "text/plain": [
       "<IPython.core.display.HTML object>"
      ]
     },
     "metadata": {
      "tags": []
     },
     "output_type": "display_data"
    },
    {
     "name": "stderr",
     "output_type": "stream",
     "text": [
      "\u001b[34m\u001b[1mwandb\u001b[0m: Agent Starting Run: fw2hq7r2 with config:\n",
      "\u001b[34m\u001b[1mwandb\u001b[0m: \tbatch_size: 92\n",
      "\u001b[34m\u001b[1mwandb\u001b[0m: \tcriterion: binary_crossentropy\n",
      "\u001b[34m\u001b[1mwandb\u001b[0m: \tepochs: 81\n",
      "\u001b[34m\u001b[1mwandb\u001b[0m: \th1: 256\n",
      "\u001b[34m\u001b[1mwandb\u001b[0m: \th2: 64\n",
      "\u001b[34m\u001b[1mwandb\u001b[0m: \th3: 128\n",
      "\u001b[34m\u001b[1mwandb\u001b[0m: \th4: 64\n",
      "\u001b[34m\u001b[1mwandb\u001b[0m: \tlearning_rate: 0.002744675443289979\n",
      "\u001b[34m\u001b[1mwandb\u001b[0m: \toptimizer: Adam\n"
     ]
    },
    {
     "data": {
      "text/html": [
       "\n",
       "                Tracking run with wandb version 0.10.26<br/>\n",
       "                Syncing run <strong style=\"color:#cdcd00\">ethereal-sweep-3</strong> to <a href=\"https://wandb.ai\" target=\"_blank\">Weights & Biases</a> <a href=\"https://docs.wandb.com/integrations/jupyter.html\" target=\"_blank\">(Documentation)</a>.<br/>\n",
       "                Project page: <a href=\"https://wandb.ai/bombinko/uncategorized\" target=\"_blank\">https://wandb.ai/bombinko/uncategorized</a><br/>\n",
       "                Sweep page: <a href=\"https://wandb.ai/bombinko/uncategorized/sweeps/9djxz19i\" target=\"_blank\">https://wandb.ai/bombinko/uncategorized/sweeps/9djxz19i</a><br/>\n",
       "Run page: <a href=\"https://wandb.ai/bombinko/uncategorized/runs/fw2hq7r2\" target=\"_blank\">https://wandb.ai/bombinko/uncategorized/runs/fw2hq7r2</a><br/>\n",
       "                Run data is saved locally in <code>/content/wandb/run-20210415_111755-fw2hq7r2</code><br/><br/>\n",
       "            "
      ],
      "text/plain": [
       "<IPython.core.display.HTML object>"
      ]
     },
     "metadata": {
      "tags": []
     },
     "output_type": "display_data"
    },
    {
     "name": "stderr",
     "output_type": "stream",
     "text": [
      "\u001b[34m\u001b[1mwandb\u001b[0m: Ctrl + C detected. Stopping sweep.\n"
     ]
    }
   ],
   "source": [
    "wandb.agent(sweep_id, function=train, count=3)\n"
   ]
  }
 ],
 "metadata": {
  "colab": {
   "authorship_tag": "ABX9TyM80WU+dCRfENK2TuZ5H41o",
   "collapsed_sections": [],
   "mount_file_id": "1vl_2l-r7lIsvvwqfsZBElpwRpC61GBPu",
   "name": "Zadanie2_2.ipynb",
   "provenance": []
  },
  "kernelspec": {
   "display_name": "Python 3",
   "language": "python",
   "name": "python3"
  },
  "language_info": {
   "codemirror_mode": {
    "name": "ipython",
    "version": 3
   },
   "file_extension": ".py",
   "mimetype": "text/x-python",
   "name": "python",
   "nbconvert_exporter": "python",
   "pygments_lexer": "ipython3",
   "version": "3.8.8"
  },
  "widgets": {
   "application/vnd.jupyter.widget-state+json": {
    "1343c8a4a456463894e88d595214215a": {
     "model_module": "@jupyter-widgets/controls",
     "model_name": "VBoxModel",
     "state": {
      "_dom_classes": [],
      "_model_module": "@jupyter-widgets/controls",
      "_model_module_version": "1.5.0",
      "_model_name": "VBoxModel",
      "_view_count": null,
      "_view_module": "@jupyter-widgets/controls",
      "_view_module_version": "1.5.0",
      "_view_name": "VBoxView",
      "box_style": "",
      "children": [
       "IPY_MODEL_9e439969309b435cb142c0a338206afd",
       "IPY_MODEL_6f4d6cf761be4049bd749f136333a32b"
      ],
      "layout": "IPY_MODEL_6cd8eddd85a04fbba72b704ec9bccfb8"
     }
    },
    "2d205754f4b347fbbcb20cf11f905c49": {
     "model_module": "@jupyter-widgets/controls",
     "model_name": "ProgressStyleModel",
     "state": {
      "_model_module": "@jupyter-widgets/controls",
      "_model_module_version": "1.5.0",
      "_model_name": "ProgressStyleModel",
      "_view_count": null,
      "_view_module": "@jupyter-widgets/base",
      "_view_module_version": "1.2.0",
      "_view_name": "StyleView",
      "bar_color": null,
      "description_width": ""
     }
    },
    "349ae9bd183543b88d67c06863dc51c9": {
     "model_module": "@jupyter-widgets/base",
     "model_name": "LayoutModel",
     "state": {
      "_model_module": "@jupyter-widgets/base",
      "_model_module_version": "1.2.0",
      "_model_name": "LayoutModel",
      "_view_count": null,
      "_view_module": "@jupyter-widgets/base",
      "_view_module_version": "1.2.0",
      "_view_name": "LayoutView",
      "align_content": null,
      "align_items": null,
      "align_self": null,
      "border": null,
      "bottom": null,
      "display": null,
      "flex": null,
      "flex_flow": null,
      "grid_area": null,
      "grid_auto_columns": null,
      "grid_auto_flow": null,
      "grid_auto_rows": null,
      "grid_column": null,
      "grid_gap": null,
      "grid_row": null,
      "grid_template_areas": null,
      "grid_template_columns": null,
      "grid_template_rows": null,
      "height": null,
      "justify_content": null,
      "justify_items": null,
      "left": null,
      "margin": null,
      "max_height": null,
      "max_width": null,
      "min_height": null,
      "min_width": null,
      "object_fit": null,
      "object_position": null,
      "order": null,
      "overflow": null,
      "overflow_x": null,
      "overflow_y": null,
      "padding": null,
      "right": null,
      "top": null,
      "visibility": null,
      "width": null
     }
    },
    "3f37764120d54dd68f9aa64ed23aae1b": {
     "model_module": "@jupyter-widgets/controls",
     "model_name": "LabelModel",
     "state": {
      "_dom_classes": [],
      "_model_module": "@jupyter-widgets/controls",
      "_model_module_version": "1.5.0",
      "_model_name": "LabelModel",
      "_view_count": null,
      "_view_module": "@jupyter-widgets/controls",
      "_view_module_version": "1.5.0",
      "_view_name": "LabelView",
      "description": "",
      "description_tooltip": null,
      "layout": "IPY_MODEL_ad6bacf1dbfc45da96d3d4d0705ac464",
      "placeholder": "​",
      "style": "IPY_MODEL_5e4446d0ad414e36b241d7f019ecdf41",
      "value": " 7.01MB of 7.01MB uploaded (0.00MB deduped)\r"
     }
    },
    "585f41cbd9c9442c980f49d6856efb0b": {
     "model_module": "@jupyter-widgets/controls",
     "model_name": "VBoxModel",
     "state": {
      "_dom_classes": [],
      "_model_module": "@jupyter-widgets/controls",
      "_model_module_version": "1.5.0",
      "_model_name": "VBoxModel",
      "_view_count": null,
      "_view_module": "@jupyter-widgets/controls",
      "_view_module_version": "1.5.0",
      "_view_name": "VBoxView",
      "box_style": "",
      "children": [
       "IPY_MODEL_3f37764120d54dd68f9aa64ed23aae1b",
       "IPY_MODEL_8b273f06ff6a4978ab406f63fc8bfb7a"
      ],
      "layout": "IPY_MODEL_ee80dd065cfd4f8fb69d2f56d8494ec5"
     }
    },
    "5e4446d0ad414e36b241d7f019ecdf41": {
     "model_module": "@jupyter-widgets/controls",
     "model_name": "DescriptionStyleModel",
     "state": {
      "_model_module": "@jupyter-widgets/controls",
      "_model_module_version": "1.5.0",
      "_model_name": "DescriptionStyleModel",
      "_view_count": null,
      "_view_module": "@jupyter-widgets/base",
      "_view_module_version": "1.2.0",
      "_view_name": "StyleView",
      "description_width": ""
     }
    },
    "6cd8eddd85a04fbba72b704ec9bccfb8": {
     "model_module": "@jupyter-widgets/base",
     "model_name": "LayoutModel",
     "state": {
      "_model_module": "@jupyter-widgets/base",
      "_model_module_version": "1.2.0",
      "_model_name": "LayoutModel",
      "_view_count": null,
      "_view_module": "@jupyter-widgets/base",
      "_view_module_version": "1.2.0",
      "_view_name": "LayoutView",
      "align_content": null,
      "align_items": null,
      "align_self": null,
      "border": null,
      "bottom": null,
      "display": null,
      "flex": null,
      "flex_flow": null,
      "grid_area": null,
      "grid_auto_columns": null,
      "grid_auto_flow": null,
      "grid_auto_rows": null,
      "grid_column": null,
      "grid_gap": null,
      "grid_row": null,
      "grid_template_areas": null,
      "grid_template_columns": null,
      "grid_template_rows": null,
      "height": null,
      "justify_content": null,
      "justify_items": null,
      "left": null,
      "margin": null,
      "max_height": null,
      "max_width": null,
      "min_height": null,
      "min_width": null,
      "object_fit": null,
      "object_position": null,
      "order": null,
      "overflow": null,
      "overflow_x": null,
      "overflow_y": null,
      "padding": null,
      "right": null,
      "top": null,
      "visibility": null,
      "width": null
     }
    },
    "6f4d6cf761be4049bd749f136333a32b": {
     "model_module": "@jupyter-widgets/controls",
     "model_name": "FloatProgressModel",
     "state": {
      "_dom_classes": [],
      "_model_module": "@jupyter-widgets/controls",
      "_model_module_version": "1.5.0",
      "_model_name": "FloatProgressModel",
      "_view_count": null,
      "_view_module": "@jupyter-widgets/controls",
      "_view_module_version": "1.5.0",
      "_view_name": "ProgressView",
      "bar_style": "",
      "description": "",
      "description_tooltip": null,
      "layout": "IPY_MODEL_349ae9bd183543b88d67c06863dc51c9",
      "max": 1,
      "min": 0,
      "orientation": "horizontal",
      "style": "IPY_MODEL_2d205754f4b347fbbcb20cf11f905c49",
      "value": 1
     }
    },
    "760b9b56183940c68ac06c1aa5e69de7": {
     "model_module": "@jupyter-widgets/base",
     "model_name": "LayoutModel",
     "state": {
      "_model_module": "@jupyter-widgets/base",
      "_model_module_version": "1.2.0",
      "_model_name": "LayoutModel",
      "_view_count": null,
      "_view_module": "@jupyter-widgets/base",
      "_view_module_version": "1.2.0",
      "_view_name": "LayoutView",
      "align_content": null,
      "align_items": null,
      "align_self": null,
      "border": null,
      "bottom": null,
      "display": null,
      "flex": null,
      "flex_flow": null,
      "grid_area": null,
      "grid_auto_columns": null,
      "grid_auto_flow": null,
      "grid_auto_rows": null,
      "grid_column": null,
      "grid_gap": null,
      "grid_row": null,
      "grid_template_areas": null,
      "grid_template_columns": null,
      "grid_template_rows": null,
      "height": null,
      "justify_content": null,
      "justify_items": null,
      "left": null,
      "margin": null,
      "max_height": null,
      "max_width": null,
      "min_height": null,
      "min_width": null,
      "object_fit": null,
      "object_position": null,
      "order": null,
      "overflow": null,
      "overflow_x": null,
      "overflow_y": null,
      "padding": null,
      "right": null,
      "top": null,
      "visibility": null,
      "width": null
     }
    },
    "8b273f06ff6a4978ab406f63fc8bfb7a": {
     "model_module": "@jupyter-widgets/controls",
     "model_name": "FloatProgressModel",
     "state": {
      "_dom_classes": [],
      "_model_module": "@jupyter-widgets/controls",
      "_model_module_version": "1.5.0",
      "_model_name": "FloatProgressModel",
      "_view_count": null,
      "_view_module": "@jupyter-widgets/controls",
      "_view_module_version": "1.5.0",
      "_view_name": "ProgressView",
      "bar_style": "",
      "description": "",
      "description_tooltip": null,
      "layout": "IPY_MODEL_b582ed1ebc4841af93a8f10c71a7a03d",
      "max": 1,
      "min": 0,
      "orientation": "horizontal",
      "style": "IPY_MODEL_df5fbadce43f453d82b855606875572d",
      "value": 1
     }
    },
    "9e439969309b435cb142c0a338206afd": {
     "model_module": "@jupyter-widgets/controls",
     "model_name": "LabelModel",
     "state": {
      "_dom_classes": [],
      "_model_module": "@jupyter-widgets/controls",
      "_model_module_version": "1.5.0",
      "_model_name": "LabelModel",
      "_view_count": null,
      "_view_module": "@jupyter-widgets/controls",
      "_view_module_version": "1.5.0",
      "_view_name": "LabelView",
      "description": "",
      "description_tooltip": null,
      "layout": "IPY_MODEL_760b9b56183940c68ac06c1aa5e69de7",
      "placeholder": "​",
      "style": "IPY_MODEL_bfba1760f6f145fcb684d79547d204e7",
      "value": " 3.17MB of 3.17MB uploaded (0.00MB deduped)\r"
     }
    },
    "ad6bacf1dbfc45da96d3d4d0705ac464": {
     "model_module": "@jupyter-widgets/base",
     "model_name": "LayoutModel",
     "state": {
      "_model_module": "@jupyter-widgets/base",
      "_model_module_version": "1.2.0",
      "_model_name": "LayoutModel",
      "_view_count": null,
      "_view_module": "@jupyter-widgets/base",
      "_view_module_version": "1.2.0",
      "_view_name": "LayoutView",
      "align_content": null,
      "align_items": null,
      "align_self": null,
      "border": null,
      "bottom": null,
      "display": null,
      "flex": null,
      "flex_flow": null,
      "grid_area": null,
      "grid_auto_columns": null,
      "grid_auto_flow": null,
      "grid_auto_rows": null,
      "grid_column": null,
      "grid_gap": null,
      "grid_row": null,
      "grid_template_areas": null,
      "grid_template_columns": null,
      "grid_template_rows": null,
      "height": null,
      "justify_content": null,
      "justify_items": null,
      "left": null,
      "margin": null,
      "max_height": null,
      "max_width": null,
      "min_height": null,
      "min_width": null,
      "object_fit": null,
      "object_position": null,
      "order": null,
      "overflow": null,
      "overflow_x": null,
      "overflow_y": null,
      "padding": null,
      "right": null,
      "top": null,
      "visibility": null,
      "width": null
     }
    },
    "b582ed1ebc4841af93a8f10c71a7a03d": {
     "model_module": "@jupyter-widgets/base",
     "model_name": "LayoutModel",
     "state": {
      "_model_module": "@jupyter-widgets/base",
      "_model_module_version": "1.2.0",
      "_model_name": "LayoutModel",
      "_view_count": null,
      "_view_module": "@jupyter-widgets/base",
      "_view_module_version": "1.2.0",
      "_view_name": "LayoutView",
      "align_content": null,
      "align_items": null,
      "align_self": null,
      "border": null,
      "bottom": null,
      "display": null,
      "flex": null,
      "flex_flow": null,
      "grid_area": null,
      "grid_auto_columns": null,
      "grid_auto_flow": null,
      "grid_auto_rows": null,
      "grid_column": null,
      "grid_gap": null,
      "grid_row": null,
      "grid_template_areas": null,
      "grid_template_columns": null,
      "grid_template_rows": null,
      "height": null,
      "justify_content": null,
      "justify_items": null,
      "left": null,
      "margin": null,
      "max_height": null,
      "max_width": null,
      "min_height": null,
      "min_width": null,
      "object_fit": null,
      "object_position": null,
      "order": null,
      "overflow": null,
      "overflow_x": null,
      "overflow_y": null,
      "padding": null,
      "right": null,
      "top": null,
      "visibility": null,
      "width": null
     }
    },
    "bfba1760f6f145fcb684d79547d204e7": {
     "model_module": "@jupyter-widgets/controls",
     "model_name": "DescriptionStyleModel",
     "state": {
      "_model_module": "@jupyter-widgets/controls",
      "_model_module_version": "1.5.0",
      "_model_name": "DescriptionStyleModel",
      "_view_count": null,
      "_view_module": "@jupyter-widgets/base",
      "_view_module_version": "1.2.0",
      "_view_name": "StyleView",
      "description_width": ""
     }
    },
    "df5fbadce43f453d82b855606875572d": {
     "model_module": "@jupyter-widgets/controls",
     "model_name": "ProgressStyleModel",
     "state": {
      "_model_module": "@jupyter-widgets/controls",
      "_model_module_version": "1.5.0",
      "_model_name": "ProgressStyleModel",
      "_view_count": null,
      "_view_module": "@jupyter-widgets/base",
      "_view_module_version": "1.2.0",
      "_view_name": "StyleView",
      "bar_color": null,
      "description_width": ""
     }
    },
    "ee80dd065cfd4f8fb69d2f56d8494ec5": {
     "model_module": "@jupyter-widgets/base",
     "model_name": "LayoutModel",
     "state": {
      "_model_module": "@jupyter-widgets/base",
      "_model_module_version": "1.2.0",
      "_model_name": "LayoutModel",
      "_view_count": null,
      "_view_module": "@jupyter-widgets/base",
      "_view_module_version": "1.2.0",
      "_view_name": "LayoutView",
      "align_content": null,
      "align_items": null,
      "align_self": null,
      "border": null,
      "bottom": null,
      "display": null,
      "flex": null,
      "flex_flow": null,
      "grid_area": null,
      "grid_auto_columns": null,
      "grid_auto_flow": null,
      "grid_auto_rows": null,
      "grid_column": null,
      "grid_gap": null,
      "grid_row": null,
      "grid_template_areas": null,
      "grid_template_columns": null,
      "grid_template_rows": null,
      "height": null,
      "justify_content": null,
      "justify_items": null,
      "left": null,
      "margin": null,
      "max_height": null,
      "max_width": null,
      "min_height": null,
      "min_width": null,
      "object_fit": null,
      "object_position": null,
      "order": null,
      "overflow": null,
      "overflow_x": null,
      "overflow_y": null,
      "padding": null,
      "right": null,
      "top": null,
      "visibility": null,
      "width": null
     }
    }
   }
  }
 },
 "nbformat": 4,
 "nbformat_minor": 1
}
