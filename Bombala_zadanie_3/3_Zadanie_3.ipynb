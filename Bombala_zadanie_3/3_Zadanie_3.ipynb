{
 "cells": [
  {
   "cell_type": "code",
   "execution_count": 1,
   "id": "surprised-eating",
   "metadata": {},
   "outputs": [],
   "source": [
    "from tensorflow.keras.datasets import mnist\n",
    "from tensorflow.keras.layers import Input, Dense, Reshape, Flatten\n",
    "from tensorflow.keras.layers import BatchNormalization\n",
    "from tensorflow.keras.layers import LeakyReLU\n",
    "from tensorflow.keras.models import Sequential, Model\n",
    "from tensorflow.keras.optimizers import Adam, RMSprop\n",
    "import matplotlib.pyplot as plt\n",
    "import numpy as np\n",
    "import math\n",
    "import wandb\n",
    "import tensorflow as tf\n",
    "from tensorflow.keras.layers import Dropout\n",
    "import cv2\n",
    "from os import listdir\n",
    "from os.path import isfile, join\n",
    "from tensorflow import keras\n",
    "from tensorflow.keras.models import Sequential\n",
    "from tensorflow.keras.layers import UpSampling2D, Conv2D\n",
    "from tensorflow.keras.layers import Conv2DTranspose\n",
    "from tensorflow.keras.layers import MaxPooling2D\n",
    "from tensorflow.keras.layers import Dense\n",
    "from tensorflow.keras.layers import Flatten\n",
    "from tensorflow.keras.layers import Dropout\n",
    "from tensorflow.keras.optimizers import SGD\n",
    "from tensorflow.keras import layers\n",
    "from tensorflow.keras.layers import Activation"
   ]
  },
  {
   "cell_type": "markdown",
   "id": "enhanced-pierre",
   "metadata": {},
   "source": [
    "# Priprava dat\n",
    "\n",
    "- Nacitanie obrazkov z adresaru\n",
    "- Resizovanie obrazkov na velkost 28x28"
   ]
  },
  {
   "cell_type": "code",
   "execution_count": 2,
   "id": "anonymous-railway",
   "metadata": {},
   "outputs": [
    {
     "data": {
      "image/png": "[encoded data removed]",
      "text/plain": [
       "<Figure size 432x288 with 1 Axes>"
      ]
     },
     "metadata": {
      "needs_background": "light"
     },
     "output_type": "display_data"
    },
    {
     "name": "stdout",
     "output_type": "stream",
     "text": [
      "arr.shape\n",
      "(939, 28, 28)\n",
      "arr[0].shape\n",
      "(28, 28)\n"
     ]
    },
    {
     "data": {
      "image/png": "[encoded data removed]",
      "text/plain": [
       "<Figure size 432x288 with 1 Axes>"
      ]
     },
     "metadata": {
      "needs_background": "light"
     },
     "output_type": "display_data"
    },
    {
     "name": "stdout",
     "output_type": "stream",
     "text": [
      "X_train.shape\n",
      "(60000, 28, 28)\n",
      "X_train[0].shape\n",
      "(28, 28)\n"
     ]
    },
    {
     "data": {
      "image/png": "[encoded data removed]",
      "text/plain": [
       "<Figure size 432x288 with 1 Axes>"
      ]
     },
     "metadata": {
      "needs_background": "light"
     },
     "output_type": "display_data"
    }
   ],
   "source": [
    "mypath=\"C:/Users/marti/Documents/GitHub/school-10/NSIETE/1-cviko/3_zadanie/pokemons/kaggle-one-shot-pokemon/pokemon-a/pokemons\"\n",
    "onlyfiles = [ f for f in listdir(mypath) if isfile(join(mypath,f)) ]\n",
    "images = np.empty(len(onlyfiles), dtype=object)\n",
    "\n",
    "for n in range(0, len(onlyfiles)):\n",
    "    images[n] = cv2.imread( join(mypath,onlyfiles[n]) )\n",
    "    \n",
    "gray_images = []\n",
    "for n in range(0, len(images)):\n",
    "    x = cv2.cvtColor(images[n], cv2.COLOR_BGR2GRAY)\n",
    "    x = cv2.resize(x, dsize=(28, 28), interpolation=cv2.INTER_CUBIC)\n",
    "    gray_images.append(np.asarray(x))\n",
    "\n",
    "plt.imshow(gray_images[100])\n",
    "plt.show()\n",
    "\n",
    "# for i in range(len(gray_images)):\n",
    "#     gray_images[i] = np.resize( gray_images[i], (28,28))\n",
    "    \n",
    "arr = np.array(gray_images)\n",
    "print(\"arr.shape\")\n",
    "print(arr.shape)\n",
    "    \n",
    "print(\"arr[0].shape\")\n",
    "print(arr[0].shape)\n",
    "\n",
    "plt.imshow(gray_images[100])\n",
    "plt.show()\n",
    "\n",
    "(X_train, _), (_, _) = mnist.load_data()\n",
    "print(\"X_train.shape\")\n",
    "print(X_train.shape)\n",
    "\n",
    "print(\"X_train[0].shape\")\n",
    "print(X_train[0].shape)\n",
    "\n",
    "plt.imshow(X_train[0])\n",
    "plt.show()"
   ]
  },
  {
   "cell_type": "markdown",
   "id": "embedded-circuit",
   "metadata": {},
   "source": [
    "- Nastavenie velkosti obrazkov"
   ]
  },
  {
   "cell_type": "code",
   "execution_count": 3,
   "id": "medium-discharge",
   "metadata": {},
   "outputs": [],
   "source": [
    "img_rows = 28\n",
    "img_cols = 28\n",
    "channels = 1\n",
    "img_shape = (img_rows, img_cols, channels)\n",
    "dim = 128"
   ]
  },
  {
   "cell_type": "markdown",
   "id": "early-mechanics",
   "metadata": {},
   "source": [
    "- Ukladanie obrazkov"
   ]
  },
  {
   "cell_type": "code",
   "execution_count": 4,
   "id": "patient-threat",
   "metadata": {},
   "outputs": [],
   "source": [
    "def save_imgs(count, epoch, generator):\n",
    "    r, c = 5, 5\n",
    "    noise = np.random.normal(0, 1, (r * c, dim))\n",
    "    gen_imgs = generator.predict(noise)\n",
    "\n",
    "    # Rescale images 0 - 1\n",
    "    gen_imgs = 0.5 * gen_imgs + 0.5\n",
    "\n",
    "    fig, axs = plt.subplots(r, c)\n",
    "    cnt = 0\n",
    "    for i in range(r):\n",
    "        for j in range(c):\n",
    "            axs[i,j].imshow(gen_imgs[cnt, :,:,0], cmap='gray')\n",
    "            axs[i,j].axis('off')\n",
    "            cnt += 1\n",
    "    fig.savefig(f\"C:/Users/marti/Documents/GitHub/school-10/NSIETE/1-cviko/3_zadanie/generated_images2/mnist_%d_%d.png\" % (count, epoch))\n",
    "    plt.close()"
   ]
  },
  {
   "cell_type": "markdown",
   "id": "blond-characteristic",
   "metadata": {},
   "source": [
    "# WandB"
   ]
  },
  {
   "cell_type": "code",
   "execution_count": 5,
   "id": "civic-trinidad",
   "metadata": {},
   "outputs": [
    {
     "name": "stderr",
     "output_type": "stream",
     "text": [
      "Failed to detect the name of this notebook, you can set it manually with the WANDB_NOTEBOOK_NAME environment variable to enable code saving.\n",
      "wandb: Currently logged in as: bombinko (use `wandb login --relogin` to force relogin)\n"
     ]
    },
    {
     "data": {
      "text/plain": [
       "True"
      ]
     },
     "execution_count": 5,
     "metadata": {},
     "output_type": "execute_result"
    }
   ],
   "source": [
    "wandb.login()"
   ]
  },
  {
   "cell_type": "markdown",
   "id": "dietary-aluminum",
   "metadata": {},
   "source": [
    "- Definovanie konfiguracie pre wandb sweepy"
   ]
  },
  {
   "cell_type": "code",
   "execution_count": 6,
   "id": "reasonable-indicator",
   "metadata": {},
   "outputs": [],
   "source": [
    "# define sweep\n",
    "sweep_config = {\n",
    "  \"name\": \"NN-sweep-keras\",\n",
    "  \"method\": \"random\",\n",
    "  \"metric\" : {\n",
    "    'name': 'loss',\n",
    "    'goal': 'minimize'   \n",
    "    },\n",
    " \"parameters\" : {\n",
    "    'optimizer': {\n",
    "        'values': ['Adam', 'RMSprop']\n",
    "        },\n",
    "\n",
    "    'criterion': {\n",
    "        'values': ['binary_crossentropy']\n",
    "        },\n",
    "\n",
    "    'h1': {\n",
    "        'values': [64,128,256,512]\n",
    "        },\n",
    "\n",
    "    'h2': {\n",
    "        'values': [64,128,256,512]\n",
    "        },\n",
    "\n",
    "    'h3': {\n",
    "        'values': [64,128,256,512]\n",
    "        },\n",
    "\n",
    "    'h4': {\n",
    "        'values': [64,128,256,512]\n",
    "        },\n",
    "\n",
    "    'h5': {\n",
    "        'values': [64,128,256,512]\n",
    "        },\n",
    "\n",
    "    'h6': {\n",
    "        'values': [32,64,128]\n",
    "        },\n",
    "\n",
    "    'h7': {\n",
    "        'values': [32,64,128]\n",
    "        },\n",
    "\n",
    "    'h8': {\n",
    "        'values':[32,64,128]\n",
    "        },\n",
    "    'learning_rate': {\n",
    "        'distribution': 'uniform',\n",
    "        'min': 0,\n",
    "        'max': 0.1\n",
    "        } \n",
    " }\n",
    "\n",
    "}"
   ]
  },
  {
   "cell_type": "markdown",
   "id": "located-hydrogen",
   "metadata": {},
   "source": [
    "- Inicializacia trenovacej funkcie"
   ]
  },
  {
   "cell_type": "code",
   "execution_count": 7,
   "id": "furnished-laugh",
   "metadata": {},
   "outputs": [],
   "source": [
    "def train_with_config():\n",
    "    global sweep_counter\n",
    "    sweep_counter = sweep_counter + 1\n",
    "    with wandb.init(config=sweep_config):\n",
    "    # Specify the other hyperparameters to the configuration\n",
    "        config = wandb.config\n",
    "        # Add the config item (layers) to wandb\n",
    "        if wandb.run:\n",
    "            optimizer1= build_optimizer(config.optimizer, 0.0001)  \n",
    "            optimizer2= build_optimizer(config.optimizer, 0.000001)  \n",
    "\n",
    "            discriminator = build_discriminator(config.h6,config.h7,config.h8)\n",
    "            discriminator.compile(loss=config.criterion,\n",
    "                optimizer=optimizer1,\n",
    "                metrics=['accuracy'])\n",
    "\n",
    "            generator = build_generator(config.h1,config.h2,config.h3,config.h4,config.h5)\n",
    "            generator.compile(loss=config.criterion, optimizer=optimizer2)\n",
    "\n",
    "            z = Input(shape=(dim,))   #Our random input to the generator\n",
    "            img = generator(z)\n",
    "\n",
    "            discriminator.trainable = False  \n",
    "\n",
    "            valid = discriminator(img)  #Validity check on the generated image\n",
    "\n",
    "            combined = Model(z, valid)\n",
    "            combined.compile(loss=config.criterion, optimizer=optimizer2)\n",
    "\n",
    "\n",
    "#             model_train(epochs=100, batch_size=32, save_interval=10)\n",
    "            batch_size = 32\n",
    "            epochs=5000\n",
    "            save_interval=10\n",
    "            \n",
    "            X_train = arr\n",
    "            X_train = np.expand_dims(X_train, axis=3)\n",
    "            X_train = X_train / 127.5 - 1.\n",
    "    \n",
    "            valid = np.ones((batch_size, 1))\n",
    "            fake = np.zeros((batch_size, 1))\n",
    "\n",
    "            for epoch in range(epochs):\n",
    "                idx = np.random.randint(0, X_train.shape[0], batch_size)\n",
    "                imgs = X_train[idx]\n",
    "                noise = np.random.normal(0, 1, (batch_size, dim))\n",
    "                gen_imgs = generator.predict(noise)\n",
    "                d_loss_real = discriminator.train_on_batch(imgs, valid)\n",
    "                d_loss_fake = discriminator.train_on_batch(gen_imgs, fake)\n",
    "                d_loss = 0.5 * np.add(d_loss_real, d_loss_fake)\n",
    "                g_loss = combined.train_on_batch(noise, valid)\n",
    "                print (\"%d [D loss: %f, acc.: %.2f%%] [G loss: %f]\" % (epoch, d_loss[0], 100*d_loss[1], g_loss))\n",
    "                \n",
    "                wandb.log({'D_loss:': d_loss[0], 'epoch': epoch})\n",
    "                wandb.log({'acc': 100*d_loss[1], 'epoch': epoch})\n",
    "                wandb.log({'G_loss': g_loss, 'epoch': epoch})\n",
    "                       \n",
    "                if epoch % save_interval == 0:\n",
    "                    save_imgs(sweep_counter, epoch, generator)\n",
    "\n",
    "#             generator.save('generator_model.h5')  "
   ]
  },
  {
   "cell_type": "markdown",
   "id": "classical-participation",
   "metadata": {},
   "source": [
    "- Inicializacia optimizerov"
   ]
  },
  {
   "cell_type": "code",
   "execution_count": null,
   "id": "systematic-framing",
   "metadata": {},
   "outputs": [],
   "source": [
    "# def build_optimizer(optimizer, learning_rate):\n",
    "    if optimizer == \"Adam\":\n",
    "        optimizer = Adam(learning_rate, 0.5)\n",
    "    elif optimizer == \"RMSprop\":\n",
    "        optimizer = RMSprop(learning_rate, 0.5)\n",
    "    return optimizer"
   ]
  },
  {
   "cell_type": "markdown",
   "id": "quiet-conviction",
   "metadata": {},
   "source": [
    "- Inicializacia generatora"
   ]
  },
  {
   "cell_type": "code",
   "execution_count": 9,
   "id": "stopped-classics",
   "metadata": {},
   "outputs": [],
   "source": [
    "def build_generator(h1,h2,h3,h4,h5):\n",
    "    noise_shape = (dim,)   \n",
    "    model = Sequential() \n",
    "    model.add(Dense(dim * 7 * 7, activation=\"relu\", input_dim=dim))\n",
    "    model.add(Reshape((7, 7, dim)))\n",
    "    model.add(Conv2DTranspose(h1, kernel_size=4, strides=(1, 1), padding=\"same\"))\n",
    "    model.add(LeakyReLU(alpha=0.2))    \n",
    "    model.add(Conv2DTranspose(h2, kernel_size=4, strides=2, padding=\"same\"))\n",
    "    model.add(LeakyReLU(alpha=0.2))    \n",
    "    model.add(Conv2DTranspose(h3, kernel_size=4, strides=2, padding=\"same\"))\n",
    "    model.add(LeakyReLU(alpha=0.2))    \n",
    "#     model.add(Conv2DTranspose(h4, kernel_size=4, strides=1, padding=\"same\"))\n",
    "#     model.add(LeakyReLU(alpha=0.2))\n",
    "#     model.add(Conv2DTranspose(h5, kernel_size=4, strides=1, padding=\"same\"))\n",
    "#     model.add(LeakyReLU(alpha=0.2))\n",
    "    model.add(Conv2D(channels, kernel_size=3, padding=\"same\"))\n",
    "    model.add(Activation(\"sigmoid\"))    \n",
    "    model.summary()\n",
    "    noise = Input(shape=noise_shape)\n",
    "    img = model(noise)    \n",
    "    return Model(noise, img)"
   ]
  },
  {
   "cell_type": "markdown",
   "id": "clinical-mechanics",
   "metadata": {},
   "source": [
    "- Inicializacia discriminatora"
   ]
  },
  {
   "cell_type": "code",
   "execution_count": 10,
   "id": "selected-softball",
   "metadata": {},
   "outputs": [],
   "source": [
    "def build_discriminator(h1, h2, h3):    \n",
    "    model = Sequential()\n",
    "    model.add(Conv2D(h1, kernel_size=4, strides=2, input_shape=img_shape, padding=\"same\"))\n",
    "    model.add(LeakyReLU(alpha=0.2))\n",
    "    model.add(Conv2D(h2, kernel_size=4, strides=2, padding=\"same\"))\n",
    "    model.add(LeakyReLU(alpha=0.2))\n",
    "#     model.add(Conv2D(h3, kernel_size=4, strides=2, padding=\"same\"))\n",
    "#     model.add(LeakyReLU(alpha=0.2))\n",
    "    model.add(Flatten())\n",
    "    model.add(Dropout(0.2))\n",
    "    model.add(Dense(1, activation='sigmoid'))    \n",
    "    model.summary()\n",
    "    img = Input(shape=img_shape)\n",
    "    validity = model(img)\n",
    "    return Model(img, validity)"
   ]
  },
  {
   "cell_type": "markdown",
   "id": "radio-entrance",
   "metadata": {},
   "source": [
    "- Pocitadlo sweepov - sluzi na rozdelenie vygenerovanych obrazkov na sweepy"
   ]
  },
  {
   "cell_type": "code",
   "execution_count": 11,
   "id": "sharing-thing",
   "metadata": {},
   "outputs": [],
   "source": [
    "sweep_counter = 20"
   ]
  },
  {
   "cell_type": "markdown",
   "id": "minus-majority",
   "metadata": {},
   "source": [
    "- Inicializacia wandb sweepu"
   ]
  },
  {
   "cell_type": "code",
   "execution_count": 12,
   "id": "fatty-survival",
   "metadata": {},
   "outputs": [
    {
     "name": "stdout",
     "output_type": "stream",
     "text": [
      "Create sweep with ID: alkypxvk\n",
      "Sweep URL: https://wandb.ai/bombinko/uncategorized/sweeps/alkypxvk\n"
     ]
    }
   ],
   "source": [
    "sweep_id = wandb.sweep(sweep_config) "
   ]
  },
  {
   "cell_type": "markdown",
   "id": "modified-romantic",
   "metadata": {},
   "source": [
    "- Spustenie sweepu"
   ]
  },
  {
   "cell_type": "code",
   "execution_count": null,
   "id": "ongoing-incentive",
   "metadata": {},
   "outputs": [
    {
     "name": "stderr",
     "output_type": "stream",
     "text": [
      "wandb: Agent Starting Run: y0gdf8g5 with config:\n",
      "wandb: \tcriterion: binary_crossentropy\n",
      "wandb: \th1: 512\n",
      "wandb: \th2: 512\n",
      "wandb: \th3: 128\n",
      "wandb: \th4: 512\n",
      "wandb: \th5: 64\n",
      "wandb: \th6: 128\n",
      "wandb: \th7: 64\n",
      "wandb: \th8: 128\n",
      "wandb: \tlearning_rate: 0.08090158264628283\n",
      "wandb: \toptimizer: Adam\n",
      "Failed to detect the name of this notebook, you can set it manually with the WANDB_NOTEBOOK_NAME environment variable to enable code saving.\n"
     ]
    },
    {
     "data": {
      "text/html": [
       "\n",
       "                Tracking run with wandb version 0.10.30<br/>\n",
       "                Syncing run <strong style=\"color:#cdcd00\">dazzling-sweep-1</strong> to <a href=\"https://wandb.ai\" target=\"_blank\">Weights & Biases</a> <a href=\"https://docs.wandb.com/integrations/jupyter.html\" target=\"_blank\">(Documentation)</a>.<br/>\n",
       "                Project page: <a href=\"https://wandb.ai/bombinko/uncategorized\" target=\"_blank\">https://wandb.ai/bombinko/uncategorized</a><br/>\n",
       "                Sweep page: <a href=\"https://wandb.ai/bombinko/uncategorized/sweeps/alkypxvk\" target=\"_blank\">https://wandb.ai/bombinko/uncategorized/sweeps/alkypxvk</a><br/>\n",
       "Run page: <a href=\"https://wandb.ai/bombinko/uncategorized/runs/y0gdf8g5\" target=\"_blank\">https://wandb.ai/bombinko/uncategorized/runs/y0gdf8g5</a><br/>\n",
       "                Run data is saved locally in <code>C:\\Users\\marti\\Documents\\GitHub\\school-10\\NSIETE\\1-cviko\\3_zadanie\\wandb\\run-20210513_171720-y0gdf8g5</code><br/><br/>\n",
       "            "
      ],
      "text/plain": [
       "<IPython.core.display.HTML object>"
      ]
     },
     "metadata": {},
     "output_type": "display_data"
    },
    {
     "name": "stdout",
     "output_type": "stream",
     "text": [
      "Model: \"sequential\"\n",
      "_________________________________________________________________\n",
      "Layer (type)                 Output Shape              Param #   \n",
      "=================================================================\n",
      "conv2d (Conv2D)              (None, 14, 14, 128)       2176      \n",
      "_________________________________________________________________\n",
      "leaky_re_lu (LeakyReLU)      (None, 14, 14, 128)       0         \n",
      "_________________________________________________________________\n",
      "conv2d_1 (Conv2D)            (None, 7, 7, 64)          131136    \n",
      "_________________________________________________________________\n",
      "leaky_re_lu_1 (LeakyReLU)    (None, 7, 7, 64)          0         \n",
      "_________________________________________________________________\n",
      "flatten (Flatten)            (None, 3136)              0         \n",
      "_________________________________________________________________\n",
      "dropout (Dropout)            (None, 3136)              0         \n",
      "_________________________________________________________________\n",
      "dense (Dense)                (None, 1)                 3137      \n",
      "=================================================================\n",
      "Total params: 136,449\n",
      "Trainable params: 136,449\n",
      "Non-trainable params: 0\n",
      "_________________________________________________________________\n",
      "Model: \"sequential_1\"\n",
      "_________________________________________________________________\n",
      "Layer (type)                 Output Shape              Param #   \n",
      "=================================================================\n",
      "dense_1 (Dense)              (None, 6272)              809088    \n",
      "_________________________________________________________________\n",
      "reshape (Reshape)            (None, 7, 7, 128)         0         \n",
      "_________________________________________________________________\n",
      "conv2d_transpose (Conv2DTran (None, 7, 7, 512)         1049088   \n",
      "_________________________________________________________________\n",
      "leaky_re_lu_2 (LeakyReLU)    (None, 7, 7, 512)         0         \n",
      "_________________________________________________________________\n",
      "conv2d_transpose_1 (Conv2DTr (None, 14, 14, 512)       4194816   \n",
      "_________________________________________________________________\n",
      "leaky_re_lu_3 (LeakyReLU)    (None, 14, 14, 512)       0         \n",
      "_________________________________________________________________\n",
      "conv2d_transpose_2 (Conv2DTr (None, 28, 28, 128)       1048704   \n",
      "_________________________________________________________________\n",
      "leaky_re_lu_4 (LeakyReLU)    (None, 28, 28, 128)       0         \n",
      "_________________________________________________________________\n",
      "conv2d_2 (Conv2D)            (None, 28, 28, 1)         1153      \n",
      "_________________________________________________________________\n",
      "activation (Activation)      (None, 28, 28, 1)         0         \n",
      "=================================================================\n",
      "Total params: 7,102,849\n",
      "Trainable params: 7,102,849\n",
      "Non-trainable params: 0\n",
      "_________________________________________________________________\n",
      "0 [D loss: 0.689326, acc.: 70.31%] [G loss: 0.711628]\n",
      "1 [D loss: 0.665250, acc.: 89.06%] [G loss: 0.732197]\n",
      "2 [D loss: 0.634962, acc.: 90.62%] [G loss: 0.749845]\n",
      "3 [D loss: 0.622299, acc.: 85.94%] [G loss: 0.768385]\n",
      "4 [D loss: 0.604517, acc.: 87.50%] [G loss: 0.781903]\n",
      "5 [D loss: 0.580274, acc.: 90.62%] [G loss: 0.801500]\n",
      "6 [D loss: 0.549881, acc.: 92.19%] [G loss: 0.823991]\n",
      "7 [D loss: 0.550390, acc.: 87.50%] [G loss: 0.847752]\n",
      "8 [D loss: 0.497919, acc.: 93.75%] [G loss: 0.880012]\n",
      "9 [D loss: 0.482742, acc.: 92.19%] [G loss: 0.914197]\n",
      "10 [D loss: 0.461704, acc.: 92.19%] [G loss: 0.938066]\n",
      "11 [D loss: 0.490895, acc.: 84.38%] [G loss: 0.963127]\n",
      "12 [D loss: 0.433694, acc.: 90.62%] [G loss: 0.999285]\n",
      "13 [D loss: 0.420547, acc.: 92.19%] [G loss: 1.018839]\n",
      "14 [D loss: 0.418703, acc.: 89.06%] [G loss: 1.053372]\n",
      "15 [D loss: 0.369327, acc.: 92.19%] [G loss: 1.081068]\n",
      "16 [D loss: 0.401391, acc.: 87.50%] [G loss: 1.126348]\n",
      "17 [D loss: 0.332013, acc.: 93.75%] [G loss: 1.166455]\n",
      "18 [D loss: 0.317163, acc.: 93.75%] [G loss: 1.199750]\n",
      "19 [D loss: 0.294890, acc.: 93.75%] [G loss: 1.253716]\n",
      "20 [D loss: 0.379476, acc.: 85.94%] [G loss: 1.285859]\n",
      "21 [D loss: 0.302815, acc.: 90.62%] [G loss: 1.319706]\n"
     ]
    }
   ],
   "source": [
    "wandb.agent(sweep_id, function=train_with_config, count=5)"
   ]
  },
  {
   "cell_type": "code",
   "execution_count": null,
   "id": "demographic-spirit",
   "metadata": {},
   "outputs": [],
   "source": []
  }
 ],
 "metadata": {
  "kernelspec": {
   "display_name": "Python 3",
   "language": "python",
   "name": "python3"
  },
  "language_info": {
   "codemirror_mode": {
    "name": "ipython",
    "version": 3
   },
   "file_extension": ".py",
   "mimetype": "text/x-python",
   "name": "python",
   "nbconvert_exporter": "python",
   "pygments_lexer": "ipython3",
   "version": "3.8.8"
  }
 },
 "nbformat": 4,
 "nbformat_minor": 5
}
